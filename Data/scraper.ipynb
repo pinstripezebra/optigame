{
 "cells": [
  {
   "cell_type": "code",
   "execution_count": null,
   "metadata": {},
   "outputs": [],
   "source": [
    "# import the requests library\n",
    "import requests\n",
    "from bs4 import BeautifulSoup"
   ]
  },
  {
   "cell_type": "code",
   "execution_count": null,
   "metadata": {},
   "outputs": [],
   "source": [
    "# specify your custom User Agent\n",
    "custom_headers = {\n",
    "    \"User-Agent\": \"Mozilla/5.0 (Windows NT 10.0; Win64; x64) AppleWebKit/537.36 (KHTML, like Gecko) Chrome/126.0.0.0 Safari/537.36\"\n",
    "}\n",
    "\n",
    "urls = ['https://www.amazon.com/CATAN-Board-Game-Discovery-Civilization/dp/B00U26V4VQ/ref=zg_bs_g_166225011_d_sccl_22/130-7568529-7373803?psc=1',\n",
    "        'https://www.amazon.com/Hasbro-Gaming-Kingdom-Adventures-Exclusive/dp/B00000DMF5/ref=zg_bs_g_166225011_d_sccl_2/130-7568529-7373803?psc=1',\n",
    "        'https://www.amazon.com/Amerous-Inches-Magnetic-Wooden-Chess/dp/B07N5ZS5QP/ref=zg_bs_g_166225011_d_sccl_33/130-7568529-7373803?psc=1',\n",
    "        'https://www.amazon.com/Days-Wonder-DO7201-Ticket-Ride/dp/0975277324/ref=zg_bs_g_166225011_d_sccl_2/130-7568529-7373803?psc=1',\n",
    "        'https://www.amazon.com/Stonemaier-Games-STM910-Wingspan-Multi-colored/dp/B07YQ641NQ/ref=zg_bs_g_166225011_d_sccl_28/130-7568529-7373803?psc=1',\n",
    "        'https://www.amazon.com/USAopoly-Telestrations-After-Dark-Board/dp/B00V42YPKO/ref=zg_bs_g_166225011_d_sccl_81/130-7568529-7373803?psc=1',\n",
    "        'https://www.amazon.com/Bezier-Games-ONUWBEZ-Ultimate-Werewolf/dp/B00HS7GG5G/ref=zg_bs_g_166225011_d_sccl_89/130-7568529-7373803?psc=1',\n",
    "        'https://www.amazon.com/Monopoly-Magical-Adventure-Hogwarts-Players/dp/B0CS7VH7HM/ref=zg_bs_g_166225011_d_sccl_1/130-7568529-7373803?psc=1',\n",
    "        'https://www.amazon.com/Classic-Operation-Skill-Amazon-Exclusive/dp/B00000DMFM/ref=zg_bs_g_166225011_d_sccl_43/130-7568529-7373803?psc=1']\n",
    "# set an https proxy for http and https connection types\n",
    "proxies = {\n",
    "    \"http\": \"http://47.90.205.231:33333\",\n",
    "    \"https\": \"http://47.90.205.231:33333\",\n",
    "}"
   ]
  },
  {
   "cell_type": "code",
   "execution_count": null,
   "metadata": {},
   "outputs": [],
   "source": [
    "# set an https proxy for http and https connection types\n",
    "proxies = {\n",
    "    \"http\": \"http://47.90.205.231:33333\",\n",
    "    \"https\": \"http://47.90.205.231:33333\",\n",
    "}\n",
    "\n",
    "output = []\n",
    "# send a get request to the target url with a custom User Agent and a proxy\n",
    "for url in urls:\n",
    "    target_url = url\n",
    "    response = requests.get(target_url, headers=custom_headers, proxies=proxies)\n",
    "\n",
    "    # check if the response status code is not 200 (ok)\n",
    "    if response.status_code != 200:\n",
    "        # print an error message with the status code\n",
    "        print(f\"An error occurred with status {response.status_code}\")\n",
    "    else:\n",
    "        # get the page html content\n",
    "        html_content = response.text\n",
    "        # print the html content\n",
    "        output.append(html_content)\n"
   ]
  }
 ],
 "metadata": {
  "language_info": {
   "name": "python"
  }
 },
 "nbformat": 4,
 "nbformat_minor": 2
}
